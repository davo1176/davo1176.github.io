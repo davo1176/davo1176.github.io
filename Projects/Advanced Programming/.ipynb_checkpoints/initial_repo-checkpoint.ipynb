{
 "cells": [
  {
   "cell_type": "code",
   "execution_count": null,
   "metadata": {},
   "outputs": [],
   "source": [
    "from pydantic import BaseModel \n",
    "import pandas as pd\n",
    "import seaborn as sns\n",
    "import matplotlib.pyplot as plt\n",
    "\n",
    "class analze_data:\n",
    "    def __init__(self, data, type_of_plot):\n",
    "        self.data = data\n",
    "        self.type_of_plot = type_of_plot\n",
    "\n",
    "    def read(self.data):\n",
    "        df = pd.read_csv(self.data)\n",
    "    \n",
    "    def plot(self.data, self.type_of_plot):\n",
    "        plotted = plt.plot()\n",
    "\n",
    "\n",
    "class analyze_data(BaseModel):\n",
    "    "
   ]
  }
 ],
 "metadata": {
  "kernelspec": {
   "display_name": "base",
   "language": "python",
   "name": "python3"
  },
  "language_info": {
   "name": "python",
   "version": "3.12.4"
  }
 },
 "nbformat": 4,
 "nbformat_minor": 2
}
