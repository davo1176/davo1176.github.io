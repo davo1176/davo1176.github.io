{
 "cells": [
  {
   "cell_type": "code",
   "execution_count": 9,
   "metadata": {},
   "outputs": [],
   "source": [
    "from pydantic import BaseModel \n",
    "import pandas as pd\n",
    "import seaborn as sns\n",
    "import matplotlib.pyplot as plt\n"
   ]
  },
  {
   "cell_type": "code",
   "execution_count": 10,
   "metadata": {},
   "outputs": [
    {
     "data": {
      "text/html": [
       "<div>\n",
       "<style scoped>\n",
       "    .dataframe tbody tr th:only-of-type {\n",
       "        vertical-align: middle;\n",
       "    }\n",
       "\n",
       "    .dataframe tbody tr th {\n",
       "        vertical-align: top;\n",
       "    }\n",
       "\n",
       "    .dataframe thead th {\n",
       "        text-align: right;\n",
       "    }\n",
       "</style>\n",
       "<table border=\"1\" class=\"dataframe\">\n",
       "  <thead>\n",
       "    <tr style=\"text-align: right;\">\n",
       "      <th></th>\n",
       "      <th>Date</th>\n",
       "      <th>Category</th>\n",
       "      <th>Value1</th>\n",
       "      <th>Value2</th>\n",
       "      <th>Value3</th>\n",
       "    </tr>\n",
       "  </thead>\n",
       "  <tbody>\n",
       "    <tr>\n",
       "      <th>0</th>\n",
       "      <td>2023-01-01</td>\n",
       "      <td>A</td>\n",
       "      <td>61</td>\n",
       "      <td>40</td>\n",
       "      <td>64.623781</td>\n",
       "    </tr>\n",
       "    <tr>\n",
       "      <th>1</th>\n",
       "      <td>2023-01-02</td>\n",
       "      <td>B</td>\n",
       "      <td>24</td>\n",
       "      <td>44</td>\n",
       "      <td>65.387150</td>\n",
       "    </tr>\n",
       "    <tr>\n",
       "      <th>2</th>\n",
       "      <td>2023-01-03</td>\n",
       "      <td>C</td>\n",
       "      <td>81</td>\n",
       "      <td>28</td>\n",
       "      <td>25.608942</td>\n",
       "    </tr>\n",
       "    <tr>\n",
       "      <th>3</th>\n",
       "      <td>2023-01-04</td>\n",
       "      <td>D</td>\n",
       "      <td>70</td>\n",
       "      <td>7</td>\n",
       "      <td>56.034412</td>\n",
       "    </tr>\n",
       "    <tr>\n",
       "      <th>4</th>\n",
       "      <td>2023-01-05</td>\n",
       "      <td>E</td>\n",
       "      <td>30</td>\n",
       "      <td>26</td>\n",
       "      <td>47.489560</td>\n",
       "    </tr>\n",
       "  </tbody>\n",
       "</table>\n",
       "</div>"
      ],
      "text/plain": [
       "         Date Category  Value1  Value2     Value3\n",
       "0  2023-01-01        A      61      40  64.623781\n",
       "1  2023-01-02        B      24      44  65.387150\n",
       "2  2023-01-03        C      81      28  25.608942\n",
       "3  2023-01-04        D      70       7  56.034412\n",
       "4  2023-01-05        E      30      26  47.489560"
      ]
     },
     "execution_count": 10,
     "metadata": {},
     "output_type": "execute_result"
    }
   ],
   "source": [
    "df = pd.read_csv(\"sample_data.csv\")\n",
    "df.head()"
   ]
  },
  {
   "cell_type": "code",
   "execution_count": 20,
   "metadata": {},
   "outputs": [
    {
     "data": {
      "image/png": "[encoded data removed]",
      "text/plain": [
       "<Figure size 640x480 with 1 Axes>"
      ]
     },
     "metadata": {},
     "output_type": "display_data"
    }
   ],
   "source": [
    "from pydantic import BaseModel \n",
    "import pandas as pd\n",
    "import seaborn as sns\n",
    "import matplotlib.pyplot as plt\n",
    "\n",
    "class analyze_data:\n",
    "    def __init__(self, data, type_of_plot, x, y):\n",
    "        self.data = data\n",
    "        self.type_of_plot = type_of_plot\n",
    "        self.x = x\n",
    "        self.y = y\n",
    "        self.df = None\n",
    "\n",
    "    def read(self):\n",
    "        \"\"\" Reads the CSV file \"\"\"\n",
    "        self.df = pd.read_csv(self.data)\n",
    "    \n",
    "    def plot(self):\n",
    "        \"\"\" Plots the read CSV file as a specified chart type. \"\"\"\n",
    "        if self.df is None:\n",
    "            print(\"Error: Data has not been loaded. Please run the 'read()' method first.\")\n",
    "            return\n",
    "        elif self.type_of_plot == \"bar\":\n",
    "            sns.barplot(data = self.df, x = self.x, y = self.y)\n",
    "        elif self.type_of_plot == \"hist\":\n",
    "            sns.histplot(data = self.df, x = self.x, bins = 10, kde = True)\n",
    "        elif self.type_of_plot == \"scatter\":\n",
    "            sns.scatterplot(data = self.df, x = self.x, y = self.y)\n",
    "        elif self.type_of_plot == \"line\":\n",
    "            sns.lineplot(data = self.df, x = self.x, y = self.y)\n",
    "        else:\n",
    "            print(f\"Error: Unspported Plot Type: '{self.type_of_plot}'\")\n",
    "            return\n",
    "            \n",
    "        plt.title(f\"{self.type_of_plot.capitalize()} Plot of {self.y} vs {self.x}\")\n",
    "        plt.show()\n",
    "\n",
    "analyzer = analyze_data(\"sample_data.csv\", \"bar\", \"Category\", \"Value2\")\n",
    "\n",
    "analyzer.read()\n",
    "analyzer.plot()\n",
    "\n",
    " "
   ]
  }
 ],
 "metadata": {
  "kernelspec": {
   "display_name": "Python 3 (ipykernel)",
   "language": "python",
   "name": "python3"
  },
  "language_info": {
   "codemirror_mode": {
    "name": "ipython",
    "version": 3
   },
   "file_extension": ".py",
   "mimetype": "text/x-python",
   "name": "python",
   "nbconvert_exporter": "python",
   "pygments_lexer": "ipython3",
   "version": "3.12.4"
  }
 },
 "nbformat": 4,
 "nbformat_minor": 4
}
