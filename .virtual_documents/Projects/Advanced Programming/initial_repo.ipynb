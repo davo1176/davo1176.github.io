from pydantic import BaseModel 
import pandas as pd
import seaborn as sns
import matplotlib.pyplot as plt



df = pd.read_csv("sample_data.csv")
df.head()


from pydantic import BaseModel 
import pandas as pd
import seaborn as sns
import matplotlib.pyplot as plt

class analyze_data:
    def __init__(self, data, type_of_plot, x, y):
        self.data = data
        self.type_of_plot = type_of_plot
        self.x = x
        self.y = y
        self.df = None

    def read(self):
        """ Reads the CSV file """
        self.df = pd.read_csv(self.data)
    
    def plot(self):
        """ Plots the read CSV file as a specified chart type. """
        if self.df is None:
            print("Error: Data has not been loaded. Please run the 'read()' method first.")
            return
        elif self.type_of_plot == "bar":
            sns.barplot(data = self.df, x = self.x, y = self.y)
        elif self.type_of_plot == "hist":
            sns.histplot(data = self.df, x = self.x, bins = 10, kde = True)
        elif self.type_of_plot == "scatter":
            sns.scatterplot(data = self.df, x = self.x, y = self.y)
        elif self.type_of_plot == "line":
            sns.lineplot(data = self.df, x = self.x, y = self.y)
        else:
            print(f"Error: Unspported Plot Type: '{self.type_of_plot}'")
            return
            
        plt.title(f"{self.type_of_plot.capitalize()} Plot of {self.y} vs {self.x}")
        plt.show()

analyzer = analyze_data("sample_data.csv", "bar", "Category", "Value2")

analyzer.read()
analyzer.plot()

 
