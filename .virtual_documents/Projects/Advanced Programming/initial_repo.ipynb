from pydantic import BaseModel 
import pandas as pd
import seaborn as sns
import matplotlib.pyplot as plt

class analze_data:
    def __init__(self, data, type_of_plot):
        self.data = data
        self.type_of_plot = type_of_plot

    def read():
        df = pd.read_csv(self.data)
    
    def plot():
        plotted = plt.plot(x = self.data, kind = )


class analyze_data(BaseModel):
    
